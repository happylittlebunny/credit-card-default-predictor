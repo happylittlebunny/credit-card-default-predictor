{
 "cells": [
  {
   "cell_type": "markdown",
   "metadata": {},
   "source": [
    "Ensemble classifiers with best F1 value:"
   ]
  },
  {
   "cell_type": "code",
   "execution_count": 1,
   "metadata": {},
   "outputs": [
    {
     "name": "stderr",
     "output_type": "stream",
     "text": [
      "Using TensorFlow backend.\n",
      "/Users/yuyizhou/anaconda3/lib/python3.6/importlib/_bootstrap.py:205: RuntimeWarning: compiletime version 3.5 of module 'tensorflow.python.framework.fast_tensor_util' does not match runtime version 3.6\n",
      "  return f(*args, **kwds)\n"
     ]
    }
   ],
   "source": [
    "import pandas as pd\n",
    "import numpy as np\n",
    "from sklearn.naive_bayes import GaussianNB, MultinomialNB\n",
    "from sklearn import metrics\n",
    "from sklearn.linear_model import LogisticRegression\n",
    "from sklearn.model_selection import GridSearchCV\n",
    "from sklearn.neural_network import MLPClassifier\n",
    "from sklearn.metrics import classification_report\n",
    "from matplotlib.pylab import plt\n",
    "import time\n",
    "from keras.models import Sequential\n",
    "from keras.layers import Dense, Activation\n",
    "from keras.optimizers import SGD\n",
    "from sklearn.ensemble import RandomForestClassifier, VotingClassifier\n",
    "from sklearn.tree import DecisionTreeClassifier\n",
    "from sklearn.svm import LinearSVC\n",
    "from xgboost import XGBClassifier"
   ]
  },
  {
   "cell_type": "markdown",
   "metadata": {},
   "source": [
    "Preprocess Data"
   ]
  },
  {
   "cell_type": "code",
   "execution_count": 2,
   "metadata": {
    "collapsed": true
   },
   "outputs": [],
   "source": [
    "from sklearn.model_selection import train_test_split\n",
    "from sklearn.preprocessing import StandardScaler\n",
    "\n",
    "data = pd.read_excel(\"default_of_credit_card_clients.xls\",header=1,skiprows = 0,index_col = 0)\n",
    "data.rename(index = str, columns = {'default payment next month': 'lable'},inplace = True)\n",
    "\n",
    "categorical = ['SEX','EDUCATION','MARRIAGE','PAY_0','PAY_2','PAY_3','PAY_4','PAY_5','PAY_6']\n",
    "non_categorical = [x for x in data.columns if x not in categorical]\n",
    "\n",
    "data = pd.get_dummies(data, columns = categorical)\n",
    "\n",
    "categorical = [x for x in data.columns if x not in non_categorical]\n",
    "non_categorical.remove(\"lable\")\n",
    "\n",
    "train, test = train_test_split(data, test_size = 0.2, random_state = 888)\n",
    "y_train = train['lable']\n",
    "y_test = test['lable']\n",
    "train = train.drop(['lable'],axis = 1)\n",
    "test = test.drop(['lable'],axis = 1)\n",
    "\n",
    "scaler = StandardScaler(copy = False, with_mean=True, with_std=True)\n",
    "train_scaled = pd.DataFrame(scaler.fit_transform(train[non_categorical]), columns = non_categorical,index = train.index)\n",
    "test_scaled = pd.DataFrame(scaler.transform(test[non_categorical]),columns = non_categorical, index = test.index)\n",
    "X_train = pd.merge(train_scaled, train[categorical], left_index=True, right_index=True, copy = False )\n",
    "X_test = pd.merge(test_scaled, test[categorical], left_index=True, right_index=True, copy = False )"
   ]
  },
  {
   "cell_type": "markdown",
   "metadata": {},
   "source": [
    "Metrics"
   ]
  },
  {
   "cell_type": "code",
   "execution_count": 3,
   "metadata": {
    "collapsed": true
   },
   "outputs": [],
   "source": [
    "def get_mymetrix(y,y_pred, model):\n",
    "    mymetrics = pd.DataFrame(data={ \n",
    "                     '0_model': [model],\n",
    "                     '1_precision_score': [metrics.precision_score(y_test, y_pred)],\n",
    "                     '2_recall_score': [metrics.recall_score(y_test, y_pred)],\n",
    "                     '3_f1_score': [metrics.f1_score(y_test, y_pred)],\n",
    "                     '4_accuracy':[metrics.accuracy_score(y_test, y_pred)]},\n",
    "                   )  \n",
    "    return mymetrics"
   ]
  },
  {
   "cell_type": "markdown",
   "metadata": {},
   "source": [
    "Naive Bayes:"
   ]
  },
  {
   "cell_type": "code",
   "execution_count": 4,
   "metadata": {},
   "outputs": [
    {
     "data": {
      "text/html": [
       "<div>\n",
       "<style>\n",
       "    .dataframe thead tr:only-child th {\n",
       "        text-align: right;\n",
       "    }\n",
       "\n",
       "    .dataframe thead th {\n",
       "        text-align: left;\n",
       "    }\n",
       "\n",
       "    .dataframe tbody tr th {\n",
       "        vertical-align: top;\n",
       "    }\n",
       "</style>\n",
       "<table border=\"1\" class=\"dataframe\">\n",
       "  <thead>\n",
       "    <tr style=\"text-align: right;\">\n",
       "      <th></th>\n",
       "      <th>0_model</th>\n",
       "      <th>1_precision_score</th>\n",
       "      <th>2_recall_score</th>\n",
       "      <th>3_f1_score</th>\n",
       "      <th>4_accuracy</th>\n",
       "    </tr>\n",
       "  </thead>\n",
       "  <tbody>\n",
       "    <tr>\n",
       "      <th>0</th>\n",
       "      <td>NB</td>\n",
       "      <td>0.495043</td>\n",
       "      <td>0.560209</td>\n",
       "      <td>0.525614</td>\n",
       "      <td>0.774667</td>\n",
       "    </tr>\n",
       "  </tbody>\n",
       "</table>\n",
       "</div>"
      ],
      "text/plain": [
       "  0_model  1_precision_score  2_recall_score  3_f1_score  4_accuracy\n",
       "0      NB           0.495043        0.560209    0.525614    0.774667"
      ]
     },
     "execution_count": 4,
     "metadata": {},
     "output_type": "execute_result"
    }
   ],
   "source": [
    "gnb = GaussianNB()\n",
    "gnb.fit(X_train[non_categorical], y_train)\n",
    "gnb_y_predict_proba = gnb.predict_proba(X_test[non_categorical])\n",
    "mnb = MultinomialNB()\n",
    "dummy_categorical = [x for x in X_train.columns if x not in non_categorical]\n",
    "mnb.fit(X_train[dummy_categorical], y_train)\n",
    "mnb_y_predict_proba = mnb.predict_proba(X_test[dummy_categorical])\n",
    "y_predict_proba = gnb_y_predict_proba * mnb_y_predict_proba\n",
    "nb_y_predict_proba = y_predict_proba\n",
    "y_predict = np.zeros(len(y_predict_proba))\n",
    "\n",
    "for i in range(len(y_predict_proba)):\n",
    "    if y_predict_proba[i][0] >= y_predict_proba[i][1]:\n",
    "        y_predict[i] = 0\n",
    "    else:\n",
    "        y_predict[i] = 1\n",
    "nb_y_predict = y_predict\n",
    "get_mymetrix(y_test, nb_y_predict, 'NB')"
   ]
  },
  {
   "cell_type": "markdown",
   "metadata": {},
   "source": [
    "Logistic Regression："
   ]
  },
  {
   "cell_type": "code",
   "execution_count": 5,
   "metadata": {},
   "outputs": [
    {
     "data": {
      "text/html": [
       "<div>\n",
       "<style>\n",
       "    .dataframe thead tr:only-child th {\n",
       "        text-align: right;\n",
       "    }\n",
       "\n",
       "    .dataframe thead th {\n",
       "        text-align: left;\n",
       "    }\n",
       "\n",
       "    .dataframe tbody tr th {\n",
       "        vertical-align: top;\n",
       "    }\n",
       "</style>\n",
       "<table border=\"1\" class=\"dataframe\">\n",
       "  <thead>\n",
       "    <tr style=\"text-align: right;\">\n",
       "      <th></th>\n",
       "      <th>0_model</th>\n",
       "      <th>1_precision_score</th>\n",
       "      <th>2_recall_score</th>\n",
       "      <th>3_f1_score</th>\n",
       "      <th>4_accuracy</th>\n",
       "    </tr>\n",
       "  </thead>\n",
       "  <tbody>\n",
       "    <tr>\n",
       "      <th>0</th>\n",
       "      <td>LogisticRegression</td>\n",
       "      <td>0.502257</td>\n",
       "      <td>0.582648</td>\n",
       "      <td>0.539474</td>\n",
       "      <td>0.778333</td>\n",
       "    </tr>\n",
       "  </tbody>\n",
       "</table>\n",
       "</div>"
      ],
      "text/plain": [
       "              0_model  1_precision_score  2_recall_score  3_f1_score  \\\n",
       "0  LogisticRegression           0.502257        0.582648    0.539474   \n",
       "\n",
       "   4_accuracy  \n",
       "0    0.778333  "
      ]
     },
     "execution_count": 5,
     "metadata": {},
     "output_type": "execute_result"
    }
   ],
   "source": [
    "logis = LogisticRegression(max_iter=3, class_weight='balanced')\n",
    "logis.fit(X_train, y_train)\n",
    "y_predict = logis.predict(X_test)\n",
    "lr_y_predict = y_predict\n",
    "get_mymetrix(y_test, lr_y_predict, 'LogisticRegression')"
   ]
  },
  {
   "cell_type": "markdown",
   "metadata": {},
   "source": [
    "MLP："
   ]
  },
  {
   "cell_type": "code",
   "execution_count": 6,
   "metadata": {},
   "outputs": [
    {
     "data": {
      "text/html": [
       "<div>\n",
       "<style>\n",
       "    .dataframe thead tr:only-child th {\n",
       "        text-align: right;\n",
       "    }\n",
       "\n",
       "    .dataframe thead th {\n",
       "        text-align: left;\n",
       "    }\n",
       "\n",
       "    .dataframe tbody tr th {\n",
       "        vertical-align: top;\n",
       "    }\n",
       "</style>\n",
       "<table border=\"1\" class=\"dataframe\">\n",
       "  <thead>\n",
       "    <tr style=\"text-align: right;\">\n",
       "      <th></th>\n",
       "      <th>0_model</th>\n",
       "      <th>1_precision_score</th>\n",
       "      <th>2_recall_score</th>\n",
       "      <th>3_f1_score</th>\n",
       "      <th>4_accuracy</th>\n",
       "    </tr>\n",
       "  </thead>\n",
       "  <tbody>\n",
       "    <tr>\n",
       "      <th>0</th>\n",
       "      <td>MLPClassifier</td>\n",
       "      <td>0.700935</td>\n",
       "      <td>0.336574</td>\n",
       "      <td>0.454775</td>\n",
       "      <td>0.820167</td>\n",
       "    </tr>\n",
       "  </tbody>\n",
       "</table>\n",
       "</div>"
      ],
      "text/plain": [
       "         0_model  1_precision_score  2_recall_score  3_f1_score  4_accuracy\n",
       "0  MLPClassifier           0.700935        0.336574    0.454775    0.820167"
      ]
     },
     "execution_count": 6,
     "metadata": {},
     "output_type": "execute_result"
    }
   ],
   "source": [
    "mlp = MLPClassifier(hidden_layer_sizes=(50,50,50), max_iter=20, alpha=0.0001,\n",
    "                     solver='sgd', activation='relu', learning_rate_init=1, random_state=21,tol=0.000000001)  #verbose=10,  \n",
    "mlp.fit(X_train, y_train)\n",
    "\n",
    "y_pred = mlp.predict(X_test)\n",
    "mlp_relu_y_predict = y_pred\n",
    "get_mymetrix(y_test, mlp_relu_y_predict, 'MLPClassifier')"
   ]
  },
  {
   "cell_type": "markdown",
   "metadata": {},
   "source": [
    "Decision_Tree："
   ]
  },
  {
   "cell_type": "code",
   "execution_count": 7,
   "metadata": {},
   "outputs": [
    {
     "data": {
      "text/html": [
       "<div>\n",
       "<style>\n",
       "    .dataframe thead tr:only-child th {\n",
       "        text-align: right;\n",
       "    }\n",
       "\n",
       "    .dataframe thead th {\n",
       "        text-align: left;\n",
       "    }\n",
       "\n",
       "    .dataframe tbody tr th {\n",
       "        vertical-align: top;\n",
       "    }\n",
       "</style>\n",
       "<table border=\"1\" class=\"dataframe\">\n",
       "  <thead>\n",
       "    <tr style=\"text-align: right;\">\n",
       "      <th></th>\n",
       "      <th>0_model</th>\n",
       "      <th>1_precision_score</th>\n",
       "      <th>2_recall_score</th>\n",
       "      <th>3_f1_score</th>\n",
       "      <th>4_accuracy</th>\n",
       "    </tr>\n",
       "  </thead>\n",
       "  <tbody>\n",
       "    <tr>\n",
       "      <th>0</th>\n",
       "      <td>DecisionTree</td>\n",
       "      <td>0.434874</td>\n",
       "      <td>0.619297</td>\n",
       "      <td>0.510953</td>\n",
       "      <td>0.735833</td>\n",
       "    </tr>\n",
       "  </tbody>\n",
       "</table>\n",
       "</div>"
      ],
      "text/plain": [
       "        0_model  1_precision_score  2_recall_score  3_f1_score  4_accuracy\n",
       "0  DecisionTree           0.434874        0.619297    0.510953    0.735833"
      ]
     },
     "execution_count": 7,
     "metadata": {},
     "output_type": "execute_result"
    }
   ],
   "source": [
    "dc = DecisionTreeClassifier(max_depth=6,min_samples_leaf = 10, class_weight={0:1,1:4})\n",
    "dc.fit(X_train, y_train)\n",
    "y_pred = dc.predict(X_test)\n",
    "dc_y_predict = y_pred\n",
    "get_mymetrix(y_test, dc_y_predict, 'DecisionTree')"
   ]
  },
  {
   "cell_type": "markdown",
   "metadata": {},
   "source": [
    "Random - Forest"
   ]
  },
  {
   "cell_type": "code",
   "execution_count": 8,
   "metadata": {},
   "outputs": [
    {
     "data": {
      "text/html": [
       "<div>\n",
       "<style>\n",
       "    .dataframe thead tr:only-child th {\n",
       "        text-align: right;\n",
       "    }\n",
       "\n",
       "    .dataframe thead th {\n",
       "        text-align: left;\n",
       "    }\n",
       "\n",
       "    .dataframe tbody tr th {\n",
       "        vertical-align: top;\n",
       "    }\n",
       "</style>\n",
       "<table border=\"1\" class=\"dataframe\">\n",
       "  <thead>\n",
       "    <tr style=\"text-align: right;\">\n",
       "      <th></th>\n",
       "      <th>0_model</th>\n",
       "      <th>1_precision_score</th>\n",
       "      <th>2_recall_score</th>\n",
       "      <th>3_f1_score</th>\n",
       "      <th>4_accuracy</th>\n",
       "    </tr>\n",
       "  </thead>\n",
       "  <tbody>\n",
       "    <tr>\n",
       "      <th>0</th>\n",
       "      <td>RandomForestTree</td>\n",
       "      <td>0.479155</td>\n",
       "      <td>0.627524</td>\n",
       "      <td>0.543394</td>\n",
       "      <td>0.765</td>\n",
       "    </tr>\n",
       "  </tbody>\n",
       "</table>\n",
       "</div>"
      ],
      "text/plain": [
       "            0_model  1_precision_score  2_recall_score  3_f1_score  4_accuracy\n",
       "0  RandomForestTree           0.479155        0.627524    0.543394       0.765"
      ]
     },
     "execution_count": 8,
     "metadata": {},
     "output_type": "execute_result"
    }
   ],
   "source": [
    "rf = RandomForestClassifier(max_depth=10, min_samples_leaf=5, n_estimators=80, class_weight={0:1,1:4})\n",
    "rf.fit(X_train, y_train)\n",
    "y_pred = rf.predict(X_test)\n",
    "rf_y_predict = y_pred\n",
    "get_mymetrix(y_test, rf_y_predict, 'RandomForestTree')"
   ]
  },
  {
   "cell_type": "markdown",
   "metadata": {},
   "source": [
    "SVM:"
   ]
  },
  {
   "cell_type": "code",
   "execution_count": 9,
   "metadata": {},
   "outputs": [
    {
     "data": {
      "text/html": [
       "<div>\n",
       "<style>\n",
       "    .dataframe thead tr:only-child th {\n",
       "        text-align: right;\n",
       "    }\n",
       "\n",
       "    .dataframe thead th {\n",
       "        text-align: left;\n",
       "    }\n",
       "\n",
       "    .dataframe tbody tr th {\n",
       "        vertical-align: top;\n",
       "    }\n",
       "</style>\n",
       "<table border=\"1\" class=\"dataframe\">\n",
       "  <thead>\n",
       "    <tr style=\"text-align: right;\">\n",
       "      <th></th>\n",
       "      <th>0_model</th>\n",
       "      <th>1_precision_score</th>\n",
       "      <th>2_recall_score</th>\n",
       "      <th>3_f1_score</th>\n",
       "      <th>4_accuracy</th>\n",
       "    </tr>\n",
       "  </thead>\n",
       "  <tbody>\n",
       "    <tr>\n",
       "      <th>0</th>\n",
       "      <td>SVM</td>\n",
       "      <td>0.394874</td>\n",
       "      <td>0.67988</td>\n",
       "      <td>0.499588</td>\n",
       "      <td>0.6965</td>\n",
       "    </tr>\n",
       "  </tbody>\n",
       "</table>\n",
       "</div>"
      ],
      "text/plain": [
       "  0_model  1_precision_score  2_recall_score  3_f1_score  4_accuracy\n",
       "0     SVM           0.394874         0.67988    0.499588      0.6965"
      ]
     },
     "execution_count": 9,
     "metadata": {},
     "output_type": "execute_result"
    }
   ],
   "source": [
    "svm = LinearSVC(C=6, class_weight={0:1,1:4})\n",
    "svm.fit(X_train, y_train)\n",
    "y_pred = svm.predict(X_test)\n",
    "svm_y_predict = y_pred\n",
    "get_mymetrix(y_test, svm_y_predict, 'SVM')"
   ]
  },
  {
   "cell_type": "markdown",
   "metadata": {},
   "source": [
    "Deep Learning:"
   ]
  },
  {
   "cell_type": "code",
   "execution_count": 10,
   "metadata": {},
   "outputs": [
    {
     "name": "stdout",
     "output_type": "stream",
     "text": [
      "Epoch 1/5\n",
      "24000/24000 [==============================] - 1s 56us/step - loss: 0.2012 - acc: 0.6630\n",
      "Epoch 2/5\n",
      "24000/24000 [==============================] - 1s 46us/step - loss: 0.1893 - acc: 0.7416\n",
      "Epoch 3/5\n",
      "24000/24000 [==============================] - 1s 42us/step - loss: 0.1882 - acc: 0.7461\n",
      "Epoch 4/5\n",
      "24000/24000 [==============================] - 1s 39us/step - loss: 0.1877 - acc: 0.7438\n",
      "Epoch 5/5\n",
      "24000/24000 [==============================] - 1s 45us/step - loss: 0.1874 - acc: 0.7446\n"
     ]
    },
    {
     "data": {
      "text/html": [
       "<div>\n",
       "<style>\n",
       "    .dataframe thead tr:only-child th {\n",
       "        text-align: right;\n",
       "    }\n",
       "\n",
       "    .dataframe thead th {\n",
       "        text-align: left;\n",
       "    }\n",
       "\n",
       "    .dataframe tbody tr th {\n",
       "        vertical-align: top;\n",
       "    }\n",
       "</style>\n",
       "<table border=\"1\" class=\"dataframe\">\n",
       "  <thead>\n",
       "    <tr style=\"text-align: right;\">\n",
       "      <th></th>\n",
       "      <th>0_model</th>\n",
       "      <th>1_precision_score</th>\n",
       "      <th>2_recall_score</th>\n",
       "      <th>3_f1_score</th>\n",
       "      <th>4_accuracy</th>\n",
       "    </tr>\n",
       "  </thead>\n",
       "  <tbody>\n",
       "    <tr>\n",
       "      <th>0</th>\n",
       "      <td>DeepLearning</td>\n",
       "      <td>0.481813</td>\n",
       "      <td>0.604338</td>\n",
       "      <td>0.536165</td>\n",
       "      <td>0.767</td>\n",
       "    </tr>\n",
       "  </tbody>\n",
       "</table>\n",
       "</div>"
      ],
      "text/plain": [
       "        0_model  1_precision_score  2_recall_score  3_f1_score  4_accuracy\n",
       "0  DeepLearning           0.481813        0.604338    0.536165       0.767"
      ]
     },
     "execution_count": 10,
     "metadata": {},
     "output_type": "execute_result"
    }
   ],
   "source": [
    "model = Sequential()\n",
    "model.add(Dense(30, input_dim=(X_train.shape[1]), activation='sigmoid'))\n",
    "model.add(Dense(30, activation='sigmoid'))\n",
    "model.add(Dense(1,  activation='sigmoid'))\n",
    "model.compile(optimizer='adam', loss='binary_crossentropy', metrics=['accuracy'])\n",
    "model.fit(np.array(X_train), np.array(y_train), batch_size=25, epochs=5, class_weight = {0:0.2, 1:0.8})\n",
    "y_test_pred = model.predict_classes(np.array(X_test))[:,0]\n",
    "keras_y_predict = y_test_pred\n",
    "get_mymetrix(y_test, keras_y_predict, 'DeepLearning')"
   ]
  },
  {
   "cell_type": "markdown",
   "metadata": {},
   "source": [
    "XGB Classifier:"
   ]
  },
  {
   "cell_type": "code",
   "execution_count": 11,
   "metadata": {},
   "outputs": [
    {
     "data": {
      "text/html": [
       "<div>\n",
       "<style>\n",
       "    .dataframe thead tr:only-child th {\n",
       "        text-align: right;\n",
       "    }\n",
       "\n",
       "    .dataframe thead th {\n",
       "        text-align: left;\n",
       "    }\n",
       "\n",
       "    .dataframe tbody tr th {\n",
       "        vertical-align: top;\n",
       "    }\n",
       "</style>\n",
       "<table border=\"1\" class=\"dataframe\">\n",
       "  <thead>\n",
       "    <tr style=\"text-align: right;\">\n",
       "      <th></th>\n",
       "      <th>0_model</th>\n",
       "      <th>1_precision_score</th>\n",
       "      <th>2_recall_score</th>\n",
       "      <th>3_f1_score</th>\n",
       "      <th>4_accuracy</th>\n",
       "    </tr>\n",
       "  </thead>\n",
       "  <tbody>\n",
       "    <tr>\n",
       "      <th>0</th>\n",
       "      <td>XGBClassifier</td>\n",
       "      <td>0.4457</td>\n",
       "      <td>0.678384</td>\n",
       "      <td>0.53796</td>\n",
       "      <td>0.740333</td>\n",
       "    </tr>\n",
       "  </tbody>\n",
       "</table>\n",
       "</div>"
      ],
      "text/plain": [
       "         0_model  1_precision_score  2_recall_score  3_f1_score  4_accuracy\n",
       "0  XGBClassifier             0.4457        0.678384     0.53796    0.740333"
      ]
     },
     "execution_count": 11,
     "metadata": {},
     "output_type": "execute_result"
    }
   ],
   "source": [
    "xgb = XGBClassifier(max_depth=4, learning_rate=0.05, n_estimators=140, scale_pos_weight=4)\n",
    "xgb.fit(X_train, y_train)\n",
    "y_pred = xgb.predict(X_test)\n",
    "xgb_y_predict = y_pred\n",
    "get_mymetrix(y_test, xgb_y_predict, 'XGBClassifier')"
   ]
  },
  {
   "cell_type": "code",
   "execution_count": 12,
   "metadata": {},
   "outputs": [],
   "source": [
    "all_predicts = np.stack((nb_y_predict, \n",
    "                         lr_y_predict, \n",
    "                         mlp_relu_y_predict, \n",
    "                         dc_y_predict,\n",
    "                         rf_y_predict,\n",
    "                         svm_y_predict,\n",
    "                         keras_y_predict,\n",
    "                         xgb_y_predict))"
   ]
  },
  {
   "cell_type": "code",
   "execution_count": 13,
   "metadata": {},
   "outputs": [],
   "source": [
    "all_predicts = all_predicts.astype(int)"
   ]
  },
  {
   "cell_type": "code",
   "execution_count": 14,
   "metadata": {},
   "outputs": [],
   "source": [
    "maj = np.asarray([np.argmax(np.bincount(all_predicts[:,c])) for c in range(all_predicts.shape[1])])"
   ]
  },
  {
   "cell_type": "code",
   "execution_count": 15,
   "metadata": {},
   "outputs": [
    {
     "data": {
      "text/html": [
       "<div>\n",
       "<style>\n",
       "    .dataframe thead tr:only-child th {\n",
       "        text-align: right;\n",
       "    }\n",
       "\n",
       "    .dataframe thead th {\n",
       "        text-align: left;\n",
       "    }\n",
       "\n",
       "    .dataframe tbody tr th {\n",
       "        vertical-align: top;\n",
       "    }\n",
       "</style>\n",
       "<table border=\"1\" class=\"dataframe\">\n",
       "  <thead>\n",
       "    <tr style=\"text-align: right;\">\n",
       "      <th></th>\n",
       "      <th>0_model</th>\n",
       "      <th>1_precision_score</th>\n",
       "      <th>2_recall_score</th>\n",
       "      <th>3_f1_score</th>\n",
       "      <th>4_accuracy</th>\n",
       "    </tr>\n",
       "  </thead>\n",
       "  <tbody>\n",
       "    <tr>\n",
       "      <th>0</th>\n",
       "      <td>Ensemble</td>\n",
       "      <td>0.517356</td>\n",
       "      <td>0.579656</td>\n",
       "      <td>0.546737</td>\n",
       "      <td>0.785833</td>\n",
       "    </tr>\n",
       "  </tbody>\n",
       "</table>\n",
       "</div>"
      ],
      "text/plain": [
       "    0_model  1_precision_score  2_recall_score  3_f1_score  4_accuracy\n",
       "0  Ensemble           0.517356        0.579656    0.546737    0.785833"
      ]
     },
     "execution_count": 15,
     "metadata": {},
     "output_type": "execute_result"
    }
   ],
   "source": [
    "get_mymetrix(y_test, maj, 'Ensemble')"
   ]
  },
  {
   "cell_type": "code",
   "execution_count": null,
   "metadata": {},
   "outputs": [],
   "source": []
  },
  {
   "cell_type": "code",
   "execution_count": null,
   "metadata": {
    "collapsed": true
   },
   "outputs": [],
   "source": []
  }
 ],
 "metadata": {
  "kernelspec": {
   "display_name": "Python 3",
   "language": "python",
   "name": "python3"
  },
  "language_info": {
   "codemirror_mode": {
    "name": "ipython",
    "version": 3
   },
   "file_extension": ".py",
   "mimetype": "text/x-python",
   "name": "python",
   "nbconvert_exporter": "python",
   "pygments_lexer": "ipython3",
   "version": "3.6.2"
  }
 },
 "nbformat": 4,
 "nbformat_minor": 2
}
